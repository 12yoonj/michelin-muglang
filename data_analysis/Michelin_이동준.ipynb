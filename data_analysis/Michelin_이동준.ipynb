{
  "cells": [
    {
      "cell_type": "markdown",
      "metadata": {
        "id": "v-4vtVAmBAFc"
      },
      "source": [
        "# 사전 작업\n",
        "### 사용 데이터\n",
        "- [환율 데이터 날마다 업데이트됨](https://www.kaggle.com/datasets/ruchi798/currency-exchange-rates)\n",
        "- [미슐랭 데이터](https://www.kaggle.com/datasets/ngshiheng/michelin-guide-restaurants-2021)\n",
        "\n",
        "### 크게 필터링 하는 작업과 환율적용하는 작업 했습니다."
      ]
    },
    {
      "cell_type": "code",
      "execution_count": null,
      "metadata": {
        "id": "dE--2Hp6-uVD"
      },
      "outputs": [],
      "source": [
        "import numpy as np \n",
        "import pandas as pd\n",
        "import matplotlib.pyplot as plt\n",
        "\n",
        "df=pd.read_csv('/content/drive/MyDrive/data/michelin_my_maps.csv')"
      ]
    },
    {
      "cell_type": "code",
      "execution_count": null,
      "metadata": {
        "colab": {
          "base_uri": "https://localhost:8080/"
        },
        "id": "SJEY8QJjAcvG",
        "outputId": "0b26cf1c-ac47-4de0-edb9-309e90dbb1c1"
      },
      "outputs": [
        {
          "name": "stdout",
          "output_type": "stream",
          "text": [
            "<class 'pandas.core.frame.DataFrame'>\n",
            "RangeIndex: 6502 entries, 0 to 6501\n",
            "Data columns (total 13 columns):\n",
            " #   Column       Non-Null Count  Dtype  \n",
            "---  ------       --------------  -----  \n",
            " 0   Name         6502 non-null   object \n",
            " 1   Address      6502 non-null   object \n",
            " 2   Location     6502 non-null   object \n",
            " 3   MinPrice     6501 non-null   object \n",
            " 4   MaxPrice     6501 non-null   object \n",
            " 5   Currency     6501 non-null   object \n",
            " 6   Cuisine      6502 non-null   object \n",
            " 7   Longitude    6502 non-null   float64\n",
            " 8   Latitude     6502 non-null   float64\n",
            " 9   PhoneNumber  6381 non-null   float64\n",
            " 10  Url          6502 non-null   object \n",
            " 11  WebsiteUrl   5375 non-null   object \n",
            " 12  Award        6502 non-null   object \n",
            "dtypes: float64(3), object(10)\n",
            "memory usage: 660.5+ KB\n"
          ]
        }
      ],
      "source": [
        "df.info()"
      ]
    },
    {
      "cell_type": "code",
      "execution_count": null,
      "metadata": {
        "id": "RKZ7xU8wA0xp"
      },
      "outputs": [],
      "source": [
        "df.head()\n",
        "df=df.dropna() #이거 안해줘서 오류 1시간동안 찾음\n",
        "pd.options.display.float_format = '{:,.2f}'.format #소수점 2자리까지만 출력"
      ]
    },
    {
      "cell_type": "markdown",
      "metadata": {
        "id": "2l8-QD_9uZGw"
      },
      "source": [
        "# 나라별 통계 어느 나라가 제일 많은지"
      ]
    },
    {
      "cell_type": "code",
      "execution_count": null,
      "metadata": {
        "colab": {
          "base_uri": "https://localhost:8080/",
          "height": 499
        },
        "id": "szjbY_ZUj6A1",
        "outputId": "42c49e3a-265b-4261-9f92-38b864c59175"
      },
      "outputs": [
        {
          "name": "stderr",
          "output_type": "stream",
          "text": [
            "/usr/local/lib/python3.7/dist-packages/ipykernel_launcher.py:6: SettingWithCopyWarning: \n",
            "A value is trying to be set on a copy of a slice from a DataFrame.\n",
            "Try using .loc[row_indexer,col_indexer] = value instead\n",
            "\n",
            "See the caveats in the documentation: https://pandas.pydata.org/pandas-docs/stable/user_guide/indexing.html#returning-a-view-versus-a-copy\n",
            "  \n"
          ]
        },
        {
          "data": {
            "text/html": [
              "\n",
              "  <div id=\"df-018b4277-845e-4a1e-8137-a8e00a13dee7\">\n",
              "    <div class=\"colab-df-container\">\n",
              "      <div>\n",
              "<style scoped>\n",
              "    .dataframe tbody tr th:only-of-type {\n",
              "        vertical-align: middle;\n",
              "    }\n",
              "\n",
              "    .dataframe tbody tr th {\n",
              "        vertical-align: top;\n",
              "    }\n",
              "\n",
              "    .dataframe thead th {\n",
              "        text-align: right;\n",
              "    }\n",
              "</style>\n",
              "<table border=\"1\" class=\"dataframe\">\n",
              "  <thead>\n",
              "    <tr style=\"text-align: right;\">\n",
              "      <th></th>\n",
              "      <th>Name</th>\n",
              "      <th>Address</th>\n",
              "      <th>Location</th>\n",
              "      <th>MinPrice</th>\n",
              "      <th>MaxPrice</th>\n",
              "      <th>Currency</th>\n",
              "      <th>Cuisine</th>\n",
              "      <th>Longitude</th>\n",
              "      <th>Latitude</th>\n",
              "      <th>PhoneNumber</th>\n",
              "      <th>Url</th>\n",
              "      <th>WebsiteUrl</th>\n",
              "      <th>Award</th>\n",
              "      <th>Country</th>\n",
              "    </tr>\n",
              "  </thead>\n",
              "  <tbody>\n",
              "    <tr>\n",
              "      <th>0</th>\n",
              "      <td>Aqua</td>\n",
              "      <td>Parkstraße 1, Wolfsburg, 38440, Germany</td>\n",
              "      <td>Wolfsburg</td>\n",
              "      <td>225</td>\n",
              "      <td>225</td>\n",
              "      <td>EUR</td>\n",
              "      <td>Creative, Modern Cuisine</td>\n",
              "      <td>10.79</td>\n",
              "      <td>52.43</td>\n",
              "      <td>495,361,606,056.00</td>\n",
              "      <td>https://guide.michelin.com/en/niedersachsen/wo...</td>\n",
              "      <td>http://www.restaurant-aqua.com</td>\n",
              "      <td>3 MICHELIN Stars</td>\n",
              "      <td>Germany</td>\n",
              "    </tr>\n",
              "    <tr>\n",
              "      <th>1</th>\n",
              "      <td>The Table Kevin Fehling</td>\n",
              "      <td>Shanghaiallee 15, Hamburg, 20457, Germany</td>\n",
              "      <td>Hamburg</td>\n",
              "      <td>230</td>\n",
              "      <td>230</td>\n",
              "      <td>EUR</td>\n",
              "      <td>Creative</td>\n",
              "      <td>10.00</td>\n",
              "      <td>53.54</td>\n",
              "      <td>494,022,867,422.00</td>\n",
              "      <td>https://guide.michelin.com/en/hamburg-region/h...</td>\n",
              "      <td>http://www.the-table-hamburg.de/</td>\n",
              "      <td>3 MICHELIN Stars</td>\n",
              "      <td>Germany</td>\n",
              "    </tr>\n",
              "    <tr>\n",
              "      <th>2</th>\n",
              "      <td>Restaurant Überfahrt Christian Jürgens</td>\n",
              "      <td>Überfahrtstraße 10, Rottach-Egern, 83700, Germany</td>\n",
              "      <td>Rottach-Egern</td>\n",
              "      <td>259</td>\n",
              "      <td>319</td>\n",
              "      <td>EUR</td>\n",
              "      <td>Creative</td>\n",
              "      <td>11.76</td>\n",
              "      <td>47.70</td>\n",
              "      <td>4,980,226,690.00</td>\n",
              "      <td>https://guide.michelin.com/en/bayern/rottach-e...</td>\n",
              "      <td>http://www.althoffcollection.com</td>\n",
              "      <td>3 MICHELIN Stars</td>\n",
              "      <td>Germany</td>\n",
              "    </tr>\n",
              "    <tr>\n",
              "      <th>3</th>\n",
              "      <td>Victor's Fine Dining by christian bau</td>\n",
              "      <td>Schlossstraße 27, Perl, 66706, Germany</td>\n",
              "      <td>Perl</td>\n",
              "      <td>205</td>\n",
              "      <td>295</td>\n",
              "      <td>EUR</td>\n",
              "      <td>Creative</td>\n",
              "      <td>6.39</td>\n",
              "      <td>49.54</td>\n",
              "      <td>49,686,679,118.00</td>\n",
              "      <td>https://guide.michelin.com/en/saarland/perl/re...</td>\n",
              "      <td>https://www.victors-fine-dining.de/</td>\n",
              "      <td>3 MICHELIN Stars</td>\n",
              "      <td>Germany</td>\n",
              "    </tr>\n",
              "    <tr>\n",
              "      <th>4</th>\n",
              "      <td>Rutz</td>\n",
              "      <td>Chausseestraße 8, Berlin, 10115, Germany</td>\n",
              "      <td>Berlin</td>\n",
              "      <td>198</td>\n",
              "      <td>245</td>\n",
              "      <td>EUR</td>\n",
              "      <td>Modern Cuisine, Creative</td>\n",
              "      <td>13.39</td>\n",
              "      <td>52.53</td>\n",
              "      <td>493,024,628,760.00</td>\n",
              "      <td>https://guide.michelin.com/en/berlin-region/be...</td>\n",
              "      <td>https://www.rutz-restaurant.de/</td>\n",
              "      <td>3 MICHELIN Stars</td>\n",
              "      <td>Germany</td>\n",
              "    </tr>\n",
              "  </tbody>\n",
              "</table>\n",
              "</div>\n",
              "      <button class=\"colab-df-convert\" onclick=\"convertToInteractive('df-018b4277-845e-4a1e-8137-a8e00a13dee7')\"\n",
              "              title=\"Convert this dataframe to an interactive table.\"\n",
              "              style=\"display:none;\">\n",
              "        \n",
              "  <svg xmlns=\"http://www.w3.org/2000/svg\" height=\"24px\"viewBox=\"0 0 24 24\"\n",
              "       width=\"24px\">\n",
              "    <path d=\"M0 0h24v24H0V0z\" fill=\"none\"/>\n",
              "    <path d=\"M18.56 5.44l.94 2.06.94-2.06 2.06-.94-2.06-.94-.94-2.06-.94 2.06-2.06.94zm-11 1L8.5 8.5l.94-2.06 2.06-.94-2.06-.94L8.5 2.5l-.94 2.06-2.06.94zm10 10l.94 2.06.94-2.06 2.06-.94-2.06-.94-.94-2.06-.94 2.06-2.06.94z\"/><path d=\"M17.41 7.96l-1.37-1.37c-.4-.4-.92-.59-1.43-.59-.52 0-1.04.2-1.43.59L10.3 9.45l-7.72 7.72c-.78.78-.78 2.05 0 2.83L4 21.41c.39.39.9.59 1.41.59.51 0 1.02-.2 1.41-.59l7.78-7.78 2.81-2.81c.8-.78.8-2.07 0-2.86zM5.41 20L4 18.59l7.72-7.72 1.47 1.35L5.41 20z\"/>\n",
              "  </svg>\n",
              "      </button>\n",
              "      \n",
              "  <style>\n",
              "    .colab-df-container {\n",
              "      display:flex;\n",
              "      flex-wrap:wrap;\n",
              "      gap: 12px;\n",
              "    }\n",
              "\n",
              "    .colab-df-convert {\n",
              "      background-color: #E8F0FE;\n",
              "      border: none;\n",
              "      border-radius: 50%;\n",
              "      cursor: pointer;\n",
              "      display: none;\n",
              "      fill: #1967D2;\n",
              "      height: 32px;\n",
              "      padding: 0 0 0 0;\n",
              "      width: 32px;\n",
              "    }\n",
              "\n",
              "    .colab-df-convert:hover {\n",
              "      background-color: #E2EBFA;\n",
              "      box-shadow: 0px 1px 2px rgba(60, 64, 67, 0.3), 0px 1px 3px 1px rgba(60, 64, 67, 0.15);\n",
              "      fill: #174EA6;\n",
              "    }\n",
              "\n",
              "    [theme=dark] .colab-df-convert {\n",
              "      background-color: #3B4455;\n",
              "      fill: #D2E3FC;\n",
              "    }\n",
              "\n",
              "    [theme=dark] .colab-df-convert:hover {\n",
              "      background-color: #434B5C;\n",
              "      box-shadow: 0px 1px 3px 1px rgba(0, 0, 0, 0.15);\n",
              "      filter: drop-shadow(0px 1px 2px rgba(0, 0, 0, 0.3));\n",
              "      fill: #FFFFFF;\n",
              "    }\n",
              "  </style>\n",
              "\n",
              "      <script>\n",
              "        const buttonEl =\n",
              "          document.querySelector('#df-018b4277-845e-4a1e-8137-a8e00a13dee7 button.colab-df-convert');\n",
              "        buttonEl.style.display =\n",
              "          google.colab.kernel.accessAllowed ? 'block' : 'none';\n",
              "\n",
              "        async function convertToInteractive(key) {\n",
              "          const element = document.querySelector('#df-018b4277-845e-4a1e-8137-a8e00a13dee7');\n",
              "          const dataTable =\n",
              "            await google.colab.kernel.invokeFunction('convertToInteractive',\n",
              "                                                     [key], {});\n",
              "          if (!dataTable) return;\n",
              "\n",
              "          const docLinkHtml = 'Like what you see? Visit the ' +\n",
              "            '<a target=\"_blank\" href=https://colab.research.google.com/notebooks/data_table.ipynb>data table notebook</a>'\n",
              "            + ' to learn more about interactive tables.';\n",
              "          element.innerHTML = '';\n",
              "          dataTable['output_type'] = 'display_data';\n",
              "          await google.colab.output.renderOutput(dataTable, element);\n",
              "          const docLink = document.createElement('div');\n",
              "          docLink.innerHTML = docLinkHtml;\n",
              "          element.appendChild(docLink);\n",
              "        }\n",
              "      </script>\n",
              "    </div>\n",
              "  </div>\n",
              "  "
            ],
            "text/plain": [
              "                                     Name  \\\n",
              "0                                    Aqua   \n",
              "1                 The Table Kevin Fehling   \n",
              "2  Restaurant Überfahrt Christian Jürgens   \n",
              "3   Victor's Fine Dining by christian bau   \n",
              "4                                    Rutz   \n",
              "\n",
              "                                             Address       Location MinPrice  \\\n",
              "0            Parkstraße 1, Wolfsburg, 38440, Germany      Wolfsburg      225   \n",
              "1          Shanghaiallee 15, Hamburg, 20457, Germany        Hamburg      230   \n",
              "2  Überfahrtstraße 10, Rottach-Egern, 83700, Germany  Rottach-Egern      259   \n",
              "3             Schlossstraße 27, Perl, 66706, Germany           Perl      205   \n",
              "4           Chausseestraße 8, Berlin, 10115, Germany         Berlin      198   \n",
              "\n",
              "  MaxPrice Currency                   Cuisine  Longitude  Latitude  \\\n",
              "0      225      EUR  Creative, Modern Cuisine      10.79     52.43   \n",
              "1      230      EUR                  Creative      10.00     53.54   \n",
              "2      319      EUR                  Creative      11.76     47.70   \n",
              "3      295      EUR                  Creative       6.39     49.54   \n",
              "4      245      EUR  Modern Cuisine, Creative      13.39     52.53   \n",
              "\n",
              "         PhoneNumber                                                Url  \\\n",
              "0 495,361,606,056.00  https://guide.michelin.com/en/niedersachsen/wo...   \n",
              "1 494,022,867,422.00  https://guide.michelin.com/en/hamburg-region/h...   \n",
              "2   4,980,226,690.00  https://guide.michelin.com/en/bayern/rottach-e...   \n",
              "3  49,686,679,118.00  https://guide.michelin.com/en/saarland/perl/re...   \n",
              "4 493,024,628,760.00  https://guide.michelin.com/en/berlin-region/be...   \n",
              "\n",
              "                            WebsiteUrl             Award  Country  \n",
              "0       http://www.restaurant-aqua.com  3 MICHELIN Stars  Germany  \n",
              "1     http://www.the-table-hamburg.de/  3 MICHELIN Stars  Germany  \n",
              "2     http://www.althoffcollection.com  3 MICHELIN Stars  Germany  \n",
              "3  https://www.victors-fine-dining.de/  3 MICHELIN Stars  Germany  \n",
              "4      https://www.rutz-restaurant.de/  3 MICHELIN Stars  Germany  "
            ]
          },
          "execution_count": 267,
          "metadata": {},
          "output_type": "execute_result"
        }
      ],
      "source": [
        "country = []\n",
        "for i in df['Address']:\n",
        "  country_name = i.split(', ')[-1]\n",
        "  country.append(country_name)\n",
        "\n",
        "df['Country'] = country\n",
        "df.head()"
      ]
    },
    {
      "cell_type": "code",
      "execution_count": null,
      "metadata": {
        "colab": {
          "base_uri": "https://localhost:8080/"
        },
        "id": "AP2PD7s3kTHg",
        "outputId": "5e3de4fe-a3ca-4f0f-cfad-ad436ef71955"
      },
      "outputs": [
        {
          "name": "stdout",
          "output_type": "stream",
          "text": [
            "['Germany' 'United Kingdom' 'Austria' 'Macao' 'Hong Kong' 'Spain' 'Japan'\n",
            " 'South Korea' 'Italy' 'China' 'United States' 'Sweden' 'Norway' 'Denmark'\n",
            " 'Singapore' 'Taiwan' 'Netherlands' 'Switzerland' 'France' 'Belgium'\n",
            " 'Ireland' 'Thailand' 'Portugal' 'Greece' 'Slovenia' 'Luxembourg' 'Brazil'\n",
            " 'Malta' 'Andorra' 'San Marino' 'Czechia' 'Iceland' 'Finland' 'Croatia'\n",
            " 'Hungary' 'Poland' 'Serbia']\n"
          ]
        },
        {
          "name": "stderr",
          "output_type": "stream",
          "text": [
            "/usr/local/lib/python3.7/dist-packages/ipykernel_launcher.py:1: SettingWithCopyWarning: \n",
            "A value is trying to be set on a copy of a slice from a DataFrame.\n",
            "Try using .loc[row_indexer,col_indexer] = value instead\n",
            "\n",
            "See the caveats in the documentation: https://pandas.pydata.org/pandas-docs/stable/user_guide/indexing.html#returning-a-view-versus-a-copy\n",
            "  \"\"\"Entry point for launching an IPython kernel.\n"
          ]
        },
        {
          "data": {
            "text/plain": [
              "37"
            ]
          },
          "execution_count": 268,
          "metadata": {},
          "output_type": "execute_result"
        }
      ],
      "source": [
        "df['Country'] = df.Country.replace({'China Mainland': 'China', 'Taipei & Taichung':'Taiwan', 'Macau': 'Macao', 'Czech Republic':'Czechia'})\n",
        "print(df.Country.unique())\n",
        "len(df.Country.unique())"
      ]
    },
    {
      "cell_type": "code",
      "execution_count": null,
      "metadata": {
        "colab": {
          "base_uri": "https://localhost:8080/"
        },
        "id": "LgFNX0UikrjX",
        "outputId": "2f089e15-8165-4923-e8b0-93d67a162611"
      },
      "outputs": [
        {
          "name": "stdout",
          "output_type": "stream",
          "text": [
            "Country\n",
            "Serbia               1\n",
            "San Marino           1\n",
            "Iceland              1\n",
            "Andorra              2\n",
            "Poland               6\n",
            "Czechia              7\n",
            "Hungary              7\n",
            "Greece               8\n",
            "Malta                9\n",
            "Finland              9\n",
            "Slovenia            12\n",
            "Norway              12\n",
            "Macao               17\n",
            "Luxembourg          20\n",
            "Croatia             20\n",
            "South Korea         25\n",
            "Austria             29\n",
            "Sweden              31\n",
            "Ireland             37\n",
            "Brazil              41\n",
            "Denmark             41\n",
            "Taiwan              50\n",
            "Thailand            53\n",
            "Portugal            56\n",
            "China               63\n",
            "Singapore           64\n",
            "Hong Kong           82\n",
            "Netherlands        225\n",
            "Switzerland        251\n",
            "Belgium            262\n",
            "United Kingdom     271\n",
            "Japan              402\n",
            "Spain              440\n",
            "United States      514\n",
            "Italy              586\n",
            "Germany            619\n",
            "France            1065\n",
            "dtype: int64\n"
          ]
        }
      ],
      "source": [
        "country=df.groupby(df['Country'])\n",
        "country=country.size().sort_values()\n",
        "print(country)"
      ]
    },
    {
      "cell_type": "code",
      "execution_count": null,
      "metadata": {
        "colab": {
          "base_uri": "https://localhost:8080/",
          "height": 368
        },
        "id": "D34MMC00m8oT",
        "outputId": "59a57f9c-8242-447c-bcf1-a741d261fd0a"
      },
      "outputs": [
        {
          "data": {
            "text/plain": [
              "<matplotlib.axes._subplots.AxesSubplot at 0x7fb7cb5c70d0>"
            ]
          },
          "execution_count": 270,
          "metadata": {},
          "output_type": "execute_result"
        },
        {
          "data": {
            "image/png": "[encoded data removed]",
            "text/plain": [
              "<Figure size 432x288 with 1 Axes>"
            ]
          },
          "metadata": {
            "needs_background": "light"
          },
          "output_type": "display_data"
        }
      ],
      "source": [
        "country=country.iloc[-20:]\n",
        "country.plot(kind='bar',x='Country')"
      ]
    },
    {
      "cell_type": "markdown",
      "metadata": {
        "id": "r3Msr5Q9ufGE"
      },
      "source": [
        "# 어느 종류의 음식이 제일 많은지"
      ]
    },
    {
      "cell_type": "code",
      "execution_count": null,
      "metadata": {
        "colab": {
          "base_uri": "https://localhost:8080/"
        },
        "id": "w5akn7rAopxB",
        "outputId": "38b00daa-4f18-4ffa-9118-cffee4ee36ad"
      },
      "outputs": [
        {
          "name": "stdout",
          "output_type": "stream",
          "text": [
            "                       갯수\n",
            "Jokbal                  1\n",
            "Thai and Vietnamese     1\n",
            "Israeli                 1\n",
            "Obanzai                 1\n",
            "Zhejiang                1\n",
            "...                   ...\n",
            "Regional Cuisine      280\n",
            "Contemporary          311\n",
            "Traditional Cuisine   391\n",
            "Creative              764\n",
            "Modern Cuisine       1452\n",
            "\n",
            "[214 rows x 1 columns]\n"
          ]
        }
      ],
      "source": [
        "cuisine = {}\n",
        "for i in df['Cuisine']:\n",
        "  c = i.split(', ')\n",
        "  for ii in c:\n",
        "    if ii in cuisine.keys():\n",
        "      cuisine[ii]+=1\n",
        "    else:\n",
        "      cuisine[ii]=1\n",
        "\n",
        "cuisine=pd.DataFrame.from_dict(cuisine, orient='index').rename(columns={0:'갯수'})\n",
        "cuisine=cuisine.sort_values(by=['갯수'])\n",
        "print(cuisine)"
      ]
    },
    {
      "cell_type": "code",
      "execution_count": null,
      "metadata": {
        "colab": {
          "base_uri": "https://localhost:8080/",
          "height": 515
        },
        "id": "vM-B24PXru0t",
        "outputId": "97585083-8601-4457-ec99-22bf0215c528"
      },
      "outputs": [
        {
          "data": {
            "text/plain": [
              "<matplotlib.axes._subplots.AxesSubplot at 0x7fb7cc12cc10>"
            ]
          },
          "execution_count": 272,
          "metadata": {},
          "output_type": "execute_result"
        },
        {
          "name": "stderr",
          "output_type": "stream",
          "text": [
            "/usr/local/lib/python3.7/dist-packages/matplotlib/backends/backend_agg.py:214: RuntimeWarning: Glyph 44079 missing from current font.\n",
            "  font.set_text(s, 0.0, flags=flags)\n",
            "/usr/local/lib/python3.7/dist-packages/matplotlib/backends/backend_agg.py:214: RuntimeWarning: Glyph 49688 missing from current font.\n",
            "  font.set_text(s, 0.0, flags=flags)\n",
            "/usr/local/lib/python3.7/dist-packages/matplotlib/backends/backend_agg.py:183: RuntimeWarning: Glyph 44079 missing from current font.\n",
            "  font.set_text(s, 0, flags=flags)\n",
            "/usr/local/lib/python3.7/dist-packages/matplotlib/backends/backend_agg.py:183: RuntimeWarning: Glyph 49688 missing from current font.\n",
            "  font.set_text(s, 0, flags=flags)\n"
          ]
        },
        {
          "data": {
            "image/png": "[encoded data removed]",
            "text/plain": [
              "<Figure size 432x288 with 1 Axes>"
            ]
          },
          "metadata": {
            "needs_background": "light"
          },
          "output_type": "display_data"
        }
      ],
      "source": [
        "# cuisine=cuisine.loc[cuisine['갯수']>100]\n",
        "cuisine=cuisine.iloc[-20:]\n",
        "cuisine.plot(kind='bar',y='갯수')"
      ]
    },
    {
      "cell_type": "markdown",
      "metadata": {
        "id": "x4K_gOcmGDVT"
      },
      "source": [
        "# 기존 가격 다 유로로 환산"
      ]
    },
    {
      "cell_type": "code",
      "execution_count": null,
      "metadata": {
        "colab": {
          "base_uri": "https://localhost:8080/",
          "height": 206
        },
        "id": "CFCkuF4gGIAm",
        "outputId": "5852f101-07ee-4914-f138-5aa431a9101f"
      },
      "outputs": [
        {
          "data": {
            "text/html": [
              "\n",
              "  <div id=\"df-c39ab6ba-6657-4ad9-8b02-56cb8491ced8\">\n",
              "    <div class=\"colab-df-container\">\n",
              "      <div>\n",
              "<style scoped>\n",
              "    .dataframe tbody tr th:only-of-type {\n",
              "        vertical-align: middle;\n",
              "    }\n",
              "\n",
              "    .dataframe tbody tr th {\n",
              "        vertical-align: top;\n",
              "    }\n",
              "\n",
              "    .dataframe thead th {\n",
              "        text-align: right;\n",
              "    }\n",
              "</style>\n",
              "<table border=\"1\" class=\"dataframe\">\n",
              "  <thead>\n",
              "    <tr style=\"text-align: right;\">\n",
              "      <th></th>\n",
              "      <th>Unnamed: 0</th>\n",
              "      <th>Country/Currency</th>\n",
              "      <th>currency</th>\n",
              "      <th>value</th>\n",
              "      <th>date</th>\n",
              "    </tr>\n",
              "  </thead>\n",
              "  <tbody>\n",
              "    <tr>\n",
              "      <th>0</th>\n",
              "      <td>0</td>\n",
              "      <td>Australia Dollar</td>\n",
              "      <td>AUD</td>\n",
              "      <td>1.58</td>\n",
              "      <td>17/12/2021</td>\n",
              "    </tr>\n",
              "    <tr>\n",
              "      <th>1</th>\n",
              "      <td>1</td>\n",
              "      <td>Great Britain Pound</td>\n",
              "      <td>GBP</td>\n",
              "      <td>0.85</td>\n",
              "      <td>17/12/2021</td>\n",
              "    </tr>\n",
              "    <tr>\n",
              "      <th>2</th>\n",
              "      <td>2</td>\n",
              "      <td>Euro</td>\n",
              "      <td>EUR</td>\n",
              "      <td>1.00</td>\n",
              "      <td>17/12/2021</td>\n",
              "    </tr>\n",
              "    <tr>\n",
              "      <th>3</th>\n",
              "      <td>3</td>\n",
              "      <td>Japan Yen</td>\n",
              "      <td>JPY</td>\n",
              "      <td>128.30</td>\n",
              "      <td>17/12/2021</td>\n",
              "    </tr>\n",
              "    <tr>\n",
              "      <th>4</th>\n",
              "      <td>4</td>\n",
              "      <td>Switzerland Franc</td>\n",
              "      <td>CHF</td>\n",
              "      <td>1.04</td>\n",
              "      <td>17/12/2021</td>\n",
              "    </tr>\n",
              "  </tbody>\n",
              "</table>\n",
              "</div>\n",
              "      <button class=\"colab-df-convert\" onclick=\"convertToInteractive('df-c39ab6ba-6657-4ad9-8b02-56cb8491ced8')\"\n",
              "              title=\"Convert this dataframe to an interactive table.\"\n",
              "              style=\"display:none;\">\n",
              "        \n",
              "  <svg xmlns=\"http://www.w3.org/2000/svg\" height=\"24px\"viewBox=\"0 0 24 24\"\n",
              "       width=\"24px\">\n",
              "    <path d=\"M0 0h24v24H0V0z\" fill=\"none\"/>\n",
              "    <path d=\"M18.56 5.44l.94 2.06.94-2.06 2.06-.94-2.06-.94-.94-2.06-.94 2.06-2.06.94zm-11 1L8.5 8.5l.94-2.06 2.06-.94-2.06-.94L8.5 2.5l-.94 2.06-2.06.94zm10 10l.94 2.06.94-2.06 2.06-.94-2.06-.94-.94-2.06-.94 2.06-2.06.94z\"/><path d=\"M17.41 7.96l-1.37-1.37c-.4-.4-.92-.59-1.43-.59-.52 0-1.04.2-1.43.59L10.3 9.45l-7.72 7.72c-.78.78-.78 2.05 0 2.83L4 21.41c.39.39.9.59 1.41.59.51 0 1.02-.2 1.41-.59l7.78-7.78 2.81-2.81c.8-.78.8-2.07 0-2.86zM5.41 20L4 18.59l7.72-7.72 1.47 1.35L5.41 20z\"/>\n",
              "  </svg>\n",
              "      </button>\n",
              "      \n",
              "  <style>\n",
              "    .colab-df-container {\n",
              "      display:flex;\n",
              "      flex-wrap:wrap;\n",
              "      gap: 12px;\n",
              "    }\n",
              "\n",
              "    .colab-df-convert {\n",
              "      background-color: #E8F0FE;\n",
              "      border: none;\n",
              "      border-radius: 50%;\n",
              "      cursor: pointer;\n",
              "      display: none;\n",
              "      fill: #1967D2;\n",
              "      height: 32px;\n",
              "      padding: 0 0 0 0;\n",
              "      width: 32px;\n",
              "    }\n",
              "\n",
              "    .colab-df-convert:hover {\n",
              "      background-color: #E2EBFA;\n",
              "      box-shadow: 0px 1px 2px rgba(60, 64, 67, 0.3), 0px 1px 3px 1px rgba(60, 64, 67, 0.15);\n",
              "      fill: #174EA6;\n",
              "    }\n",
              "\n",
              "    [theme=dark] .colab-df-convert {\n",
              "      background-color: #3B4455;\n",
              "      fill: #D2E3FC;\n",
              "    }\n",
              "\n",
              "    [theme=dark] .colab-df-convert:hover {\n",
              "      background-color: #434B5C;\n",
              "      box-shadow: 0px 1px 3px 1px rgba(0, 0, 0, 0.15);\n",
              "      filter: drop-shadow(0px 1px 2px rgba(0, 0, 0, 0.3));\n",
              "      fill: #FFFFFF;\n",
              "    }\n",
              "  </style>\n",
              "\n",
              "      <script>\n",
              "        const buttonEl =\n",
              "          document.querySelector('#df-c39ab6ba-6657-4ad9-8b02-56cb8491ced8 button.colab-df-convert');\n",
              "        buttonEl.style.display =\n",
              "          google.colab.kernel.accessAllowed ? 'block' : 'none';\n",
              "\n",
              "        async function convertToInteractive(key) {\n",
              "          const element = document.querySelector('#df-c39ab6ba-6657-4ad9-8b02-56cb8491ced8');\n",
              "          const dataTable =\n",
              "            await google.colab.kernel.invokeFunction('convertToInteractive',\n",
              "                                                     [key], {});\n",
              "          if (!dataTable) return;\n",
              "\n",
              "          const docLinkHtml = 'Like what you see? Visit the ' +\n",
              "            '<a target=\"_blank\" href=https://colab.research.google.com/notebooks/data_table.ipynb>data table notebook</a>'\n",
              "            + ' to learn more about interactive tables.';\n",
              "          element.innerHTML = '';\n",
              "          dataTable['output_type'] = 'display_data';\n",
              "          await google.colab.output.renderOutput(dataTable, element);\n",
              "          const docLink = document.createElement('div');\n",
              "          docLink.innerHTML = docLinkHtml;\n",
              "          element.appendChild(docLink);\n",
              "        }\n",
              "      </script>\n",
              "    </div>\n",
              "  </div>\n",
              "  "
            ],
            "text/plain": [
              "   Unnamed: 0     Country/Currency currency  value        date\n",
              "0           0     Australia Dollar      AUD   1.58  17/12/2021\n",
              "1           1  Great Britain Pound      GBP   0.85  17/12/2021\n",
              "2           2                 Euro      EUR   1.00  17/12/2021\n",
              "3           3            Japan Yen      JPY 128.30  17/12/2021\n",
              "4           4    Switzerland Franc      CHF   1.04  17/12/2021"
            ]
          },
          "execution_count": 273,
          "metadata": {},
          "output_type": "execute_result"
        }
      ],
      "source": [
        "exchange=pd.read_csv('/content/drive/MyDrive/data/exchange_rates.csv')\n",
        "exchange.head()\n",
        "# 이거 유로 기준이네.."
      ]
    },
    {
      "cell_type": "code",
      "execution_count": null,
      "metadata": {
        "colab": {
          "base_uri": "https://localhost:8080/"
        },
        "id": "2LCpH_lWGlqP",
        "outputId": "8355183a-bf81-48d6-a321-fbb29b1af2a9"
      },
      "outputs": [
        {
          "name": "stdout",
          "output_type": "stream",
          "text": [
            "       Unnamed: 0             Country/Currency currency     value        date\n",
            "18598       18598             Australia Dollar      AUD      1.46  18/04/2022\n",
            "18599       18599          Great Britain Pound      GBP      0.83  18/04/2022\n",
            "18600       18600                         Euro      EUR      1.00  18/04/2022\n",
            "18601       18601                    Japan Yen      JPY    136.73  18/04/2022\n",
            "18602       18602            Switzerland Franc      CHF      1.02  18/04/2022\n",
            "...           ...                          ...      ...       ...         ...\n",
            "18743       18743  United Arab Emirates Dirham      AED      3.97  18/04/2022\n",
            "18744       18744                 Vanuatu Vatu      VUV    121.58  18/04/2022\n",
            "18745       18745                 Vietnam Dong      VND 24,730.57  18/04/2022\n",
            "18746       18746                   Yemen Rial      YER    270.24  18/04/2022\n",
            "18747       18747                Zambia Kwacha      ZMK  9,720.31  18/04/2022\n",
            "\n",
            "[150 rows x 5 columns]\n"
          ]
        }
      ],
      "source": [
        "exchange=exchange.loc[exchange['date']=='18/04/2022']\n",
        "print(exchange)"
      ]
    },
    {
      "cell_type": "code",
      "execution_count": null,
      "metadata": {
        "colab": {
          "base_uri": "https://localhost:8080/",
          "height": 548
        },
        "id": "QcCkZ789J91-",
        "outputId": "df839389-6c34-4bfe-9694-85f0038f1ce2"
      },
      "outputs": [
        {
          "data": {
            "text/html": [
              "\n",
              "  <div id=\"df-8035b45a-f3f0-486f-857b-9bc0cdd6e856\">\n",
              "    <div class=\"colab-df-container\">\n",
              "      <div>\n",
              "<style scoped>\n",
              "    .dataframe tbody tr th:only-of-type {\n",
              "        vertical-align: middle;\n",
              "    }\n",
              "\n",
              "    .dataframe tbody tr th {\n",
              "        vertical-align: top;\n",
              "    }\n",
              "\n",
              "    .dataframe thead th {\n",
              "        text-align: right;\n",
              "    }\n",
              "</style>\n",
              "<table border=\"1\" class=\"dataframe\">\n",
              "  <thead>\n",
              "    <tr style=\"text-align: right;\">\n",
              "      <th></th>\n",
              "      <th>Name</th>\n",
              "      <th>Address</th>\n",
              "      <th>Location</th>\n",
              "      <th>MinPrice</th>\n",
              "      <th>MaxPrice</th>\n",
              "      <th>Currency</th>\n",
              "      <th>Cuisine</th>\n",
              "      <th>Longitude</th>\n",
              "      <th>Latitude</th>\n",
              "      <th>PhoneNumber</th>\n",
              "      <th>Url</th>\n",
              "      <th>WebsiteUrl</th>\n",
              "      <th>Award</th>\n",
              "      <th>Country</th>\n",
              "      <th>minPricetoEUR</th>\n",
              "      <th>maxPricetoEUR</th>\n",
              "    </tr>\n",
              "  </thead>\n",
              "  <tbody>\n",
              "    <tr>\n",
              "      <th>0</th>\n",
              "      <td>Aqua</td>\n",
              "      <td>Parkstraße 1, Wolfsburg, 38440, Germany</td>\n",
              "      <td>Wolfsburg</td>\n",
              "      <td>225</td>\n",
              "      <td>225</td>\n",
              "      <td>EUR</td>\n",
              "      <td>Creative, Modern Cuisine</td>\n",
              "      <td>10.79</td>\n",
              "      <td>52.43</td>\n",
              "      <td>495,361,606,056.00</td>\n",
              "      <td>https://guide.michelin.com/en/niedersachsen/wo...</td>\n",
              "      <td>http://www.restaurant-aqua.com</td>\n",
              "      <td>3 MICHELIN Stars</td>\n",
              "      <td>Germany</td>\n",
              "      <td>225.00</td>\n",
              "      <td>225.00</td>\n",
              "    </tr>\n",
              "    <tr>\n",
              "      <th>1</th>\n",
              "      <td>The Table Kevin Fehling</td>\n",
              "      <td>Shanghaiallee 15, Hamburg, 20457, Germany</td>\n",
              "      <td>Hamburg</td>\n",
              "      <td>230</td>\n",
              "      <td>230</td>\n",
              "      <td>EUR</td>\n",
              "      <td>Creative</td>\n",
              "      <td>10.00</td>\n",
              "      <td>53.54</td>\n",
              "      <td>494,022,867,422.00</td>\n",
              "      <td>https://guide.michelin.com/en/hamburg-region/h...</td>\n",
              "      <td>http://www.the-table-hamburg.de/</td>\n",
              "      <td>3 MICHELIN Stars</td>\n",
              "      <td>Germany</td>\n",
              "      <td>230.00</td>\n",
              "      <td>230.00</td>\n",
              "    </tr>\n",
              "    <tr>\n",
              "      <th>2</th>\n",
              "      <td>Restaurant Überfahrt Christian Jürgens</td>\n",
              "      <td>Überfahrtstraße 10, Rottach-Egern, 83700, Germany</td>\n",
              "      <td>Rottach-Egern</td>\n",
              "      <td>259</td>\n",
              "      <td>319</td>\n",
              "      <td>EUR</td>\n",
              "      <td>Creative</td>\n",
              "      <td>11.76</td>\n",
              "      <td>47.70</td>\n",
              "      <td>4,980,226,690.00</td>\n",
              "      <td>https://guide.michelin.com/en/bayern/rottach-e...</td>\n",
              "      <td>http://www.althoffcollection.com</td>\n",
              "      <td>3 MICHELIN Stars</td>\n",
              "      <td>Germany</td>\n",
              "      <td>259.00</td>\n",
              "      <td>319.00</td>\n",
              "    </tr>\n",
              "    <tr>\n",
              "      <th>3</th>\n",
              "      <td>Victor's Fine Dining by christian bau</td>\n",
              "      <td>Schlossstraße 27, Perl, 66706, Germany</td>\n",
              "      <td>Perl</td>\n",
              "      <td>205</td>\n",
              "      <td>295</td>\n",
              "      <td>EUR</td>\n",
              "      <td>Creative</td>\n",
              "      <td>6.39</td>\n",
              "      <td>49.54</td>\n",
              "      <td>49,686,679,118.00</td>\n",
              "      <td>https://guide.michelin.com/en/saarland/perl/re...</td>\n",
              "      <td>https://www.victors-fine-dining.de/</td>\n",
              "      <td>3 MICHELIN Stars</td>\n",
              "      <td>Germany</td>\n",
              "      <td>205.00</td>\n",
              "      <td>295.00</td>\n",
              "    </tr>\n",
              "    <tr>\n",
              "      <th>4</th>\n",
              "      <td>Rutz</td>\n",
              "      <td>Chausseestraße 8, Berlin, 10115, Germany</td>\n",
              "      <td>Berlin</td>\n",
              "      <td>198</td>\n",
              "      <td>245</td>\n",
              "      <td>EUR</td>\n",
              "      <td>Modern Cuisine, Creative</td>\n",
              "      <td>13.39</td>\n",
              "      <td>52.53</td>\n",
              "      <td>493,024,628,760.00</td>\n",
              "      <td>https://guide.michelin.com/en/berlin-region/be...</td>\n",
              "      <td>https://www.rutz-restaurant.de/</td>\n",
              "      <td>3 MICHELIN Stars</td>\n",
              "      <td>Germany</td>\n",
              "      <td>198.00</td>\n",
              "      <td>245.00</td>\n",
              "    </tr>\n",
              "  </tbody>\n",
              "</table>\n",
              "</div>\n",
              "      <button class=\"colab-df-convert\" onclick=\"convertToInteractive('df-8035b45a-f3f0-486f-857b-9bc0cdd6e856')\"\n",
              "              title=\"Convert this dataframe to an interactive table.\"\n",
              "              style=\"display:none;\">\n",
              "        \n",
              "  <svg xmlns=\"http://www.w3.org/2000/svg\" height=\"24px\"viewBox=\"0 0 24 24\"\n",
              "       width=\"24px\">\n",
              "    <path d=\"M0 0h24v24H0V0z\" fill=\"none\"/>\n",
              "    <path d=\"M18.56 5.44l.94 2.06.94-2.06 2.06-.94-2.06-.94-.94-2.06-.94 2.06-2.06.94zm-11 1L8.5 8.5l.94-2.06 2.06-.94-2.06-.94L8.5 2.5l-.94 2.06-2.06.94zm10 10l.94 2.06.94-2.06 2.06-.94-2.06-.94-.94-2.06-.94 2.06-2.06.94z\"/><path d=\"M17.41 7.96l-1.37-1.37c-.4-.4-.92-.59-1.43-.59-.52 0-1.04.2-1.43.59L10.3 9.45l-7.72 7.72c-.78.78-.78 2.05 0 2.83L4 21.41c.39.39.9.59 1.41.59.51 0 1.02-.2 1.41-.59l7.78-7.78 2.81-2.81c.8-.78.8-2.07 0-2.86zM5.41 20L4 18.59l7.72-7.72 1.47 1.35L5.41 20z\"/>\n",
              "  </svg>\n",
              "      </button>\n",
              "      \n",
              "  <style>\n",
              "    .colab-df-container {\n",
              "      display:flex;\n",
              "      flex-wrap:wrap;\n",
              "      gap: 12px;\n",
              "    }\n",
              "\n",
              "    .colab-df-convert {\n",
              "      background-color: #E8F0FE;\n",
              "      border: none;\n",
              "      border-radius: 50%;\n",
              "      cursor: pointer;\n",
              "      display: none;\n",
              "      fill: #1967D2;\n",
              "      height: 32px;\n",
              "      padding: 0 0 0 0;\n",
              "      width: 32px;\n",
              "    }\n",
              "\n",
              "    .colab-df-convert:hover {\n",
              "      background-color: #E2EBFA;\n",
              "      box-shadow: 0px 1px 2px rgba(60, 64, 67, 0.3), 0px 1px 3px 1px rgba(60, 64, 67, 0.15);\n",
              "      fill: #174EA6;\n",
              "    }\n",
              "\n",
              "    [theme=dark] .colab-df-convert {\n",
              "      background-color: #3B4455;\n",
              "      fill: #D2E3FC;\n",
              "    }\n",
              "\n",
              "    [theme=dark] .colab-df-convert:hover {\n",
              "      background-color: #434B5C;\n",
              "      box-shadow: 0px 1px 3px 1px rgba(0, 0, 0, 0.15);\n",
              "      filter: drop-shadow(0px 1px 2px rgba(0, 0, 0, 0.3));\n",
              "      fill: #FFFFFF;\n",
              "    }\n",
              "  </style>\n",
              "\n",
              "      <script>\n",
              "        const buttonEl =\n",
              "          document.querySelector('#df-8035b45a-f3f0-486f-857b-9bc0cdd6e856 button.colab-df-convert');\n",
              "        buttonEl.style.display =\n",
              "          google.colab.kernel.accessAllowed ? 'block' : 'none';\n",
              "\n",
              "        async function convertToInteractive(key) {\n",
              "          const element = document.querySelector('#df-8035b45a-f3f0-486f-857b-9bc0cdd6e856');\n",
              "          const dataTable =\n",
              "            await google.colab.kernel.invokeFunction('convertToInteractive',\n",
              "                                                     [key], {});\n",
              "          if (!dataTable) return;\n",
              "\n",
              "          const docLinkHtml = 'Like what you see? Visit the ' +\n",
              "            '<a target=\"_blank\" href=https://colab.research.google.com/notebooks/data_table.ipynb>data table notebook</a>'\n",
              "            + ' to learn more about interactive tables.';\n",
              "          element.innerHTML = '';\n",
              "          dataTable['output_type'] = 'display_data';\n",
              "          await google.colab.output.renderOutput(dataTable, element);\n",
              "          const docLink = document.createElement('div');\n",
              "          docLink.innerHTML = docLinkHtml;\n",
              "          element.appendChild(docLink);\n",
              "        }\n",
              "      </script>\n",
              "    </div>\n",
              "  </div>\n",
              "  "
            ],
            "text/plain": [
              "                                     Name  \\\n",
              "0                                    Aqua   \n",
              "1                 The Table Kevin Fehling   \n",
              "2  Restaurant Überfahrt Christian Jürgens   \n",
              "3   Victor's Fine Dining by christian bau   \n",
              "4                                    Rutz   \n",
              "\n",
              "                                             Address       Location MinPrice  \\\n",
              "0            Parkstraße 1, Wolfsburg, 38440, Germany      Wolfsburg      225   \n",
              "1          Shanghaiallee 15, Hamburg, 20457, Germany        Hamburg      230   \n",
              "2  Überfahrtstraße 10, Rottach-Egern, 83700, Germany  Rottach-Egern      259   \n",
              "3             Schlossstraße 27, Perl, 66706, Germany           Perl      205   \n",
              "4           Chausseestraße 8, Berlin, 10115, Germany         Berlin      198   \n",
              "\n",
              "  MaxPrice Currency                   Cuisine  Longitude  Latitude  \\\n",
              "0      225      EUR  Creative, Modern Cuisine      10.79     52.43   \n",
              "1      230      EUR                  Creative      10.00     53.54   \n",
              "2      319      EUR                  Creative      11.76     47.70   \n",
              "3      295      EUR                  Creative       6.39     49.54   \n",
              "4      245      EUR  Modern Cuisine, Creative      13.39     52.53   \n",
              "\n",
              "         PhoneNumber                                                Url  \\\n",
              "0 495,361,606,056.00  https://guide.michelin.com/en/niedersachsen/wo...   \n",
              "1 494,022,867,422.00  https://guide.michelin.com/en/hamburg-region/h...   \n",
              "2   4,980,226,690.00  https://guide.michelin.com/en/bayern/rottach-e...   \n",
              "3  49,686,679,118.00  https://guide.michelin.com/en/saarland/perl/re...   \n",
              "4 493,024,628,760.00  https://guide.michelin.com/en/berlin-region/be...   \n",
              "\n",
              "                            WebsiteUrl             Award  Country  \\\n",
              "0       http://www.restaurant-aqua.com  3 MICHELIN Stars  Germany   \n",
              "1     http://www.the-table-hamburg.de/  3 MICHELIN Stars  Germany   \n",
              "2     http://www.althoffcollection.com  3 MICHELIN Stars  Germany   \n",
              "3  https://www.victors-fine-dining.de/  3 MICHELIN Stars  Germany   \n",
              "4      https://www.rutz-restaurant.de/  3 MICHELIN Stars  Germany   \n",
              "\n",
              "   minPricetoEUR  maxPricetoEUR  \n",
              "0         225.00         225.00  \n",
              "1         230.00         230.00  \n",
              "2         259.00         319.00  \n",
              "3         205.00         295.00  \n",
              "4         198.00         245.00  "
            ]
          },
          "execution_count": 275,
          "metadata": {},
          "output_type": "execute_result"
        }
      ],
      "source": [
        "minPricetoEUR = []\n",
        "maxPricetoEUR = []\n",
        "\n",
        "# 1시간동안 삽질하면서 찾은건데 중간에 currency와 가격이 비어있는 데이터가 있었음\n",
        "# 이거 떄문에 오류나서 그냥 dopna로 해당 데이터 날림\n",
        "\n",
        "for min,max,cur,name in zip(df['MinPrice'],df['MaxPrice'],df['Currency'],df['Name']):\n",
        "  rate=exchange.loc[exchange['currency']==cur,['value']]\n",
        "  rate=rate.iloc[0][0]\n",
        "  min=int(min.replace(',',''))/rate\n",
        "  max=int(max.replace(',',''))/rate\n",
        "  minPricetoEUR.append(min)\n",
        "  maxPricetoEUR.append(max)\n",
        "\n",
        "df['minPricetoEUR'] = minPricetoEUR\n",
        "df['maxPricetoEUR'] = maxPricetoEUR\n",
        "df.head()"
      ]
    },
    {
      "cell_type": "markdown",
      "metadata": {
        "id": "JfI3rJ69cKCF"
      },
      "source": [
        "# 가장 비싼 식당이 많은 나라, 원화로 환산"
      ]
    },
    {
      "cell_type": "code",
      "execution_count": null,
      "metadata": {
        "colab": {
          "base_uri": "https://localhost:8080/"
        },
        "id": "qjWZI2KubeBo",
        "outputId": "46a04bf9-a2a0-40e8-e435-6698cbaab5e0"
      },
      "outputs": [
        {
          "name": "stdout",
          "output_type": "stream",
          "text": [
            "                maxPricetoEUR\n",
            "Country                      \n",
            "Serbia                  17.89\n",
            "Poland                  47.29\n",
            "Brazil                  51.22\n",
            "Czechia                 59.84\n",
            "Taiwan                  79.26\n",
            "Malta                   84.00\n",
            "Ireland                 84.43\n",
            "Thailand                86.13\n",
            "Croatia                 86.15\n",
            "Hungary                 87.98\n",
            "Spain                   89.09\n",
            "Slovenia                92.25\n",
            "United States           93.48\n",
            "Greece                  95.00\n",
            "San Marino             100.00\n",
            "Netherlands            103.91\n",
            "Belgium                104.35\n",
            "Portugal               106.05\n",
            "Italy                  108.05\n",
            "Andorra                108.50\n",
            "United Kingdom         109.28\n",
            "Germany                112.79\n",
            "Iceland                113.24\n",
            "France                 113.93\n",
            "Luxembourg             114.10\n",
            "Finland                117.89\n",
            "South Korea            124.05\n",
            "Sweden                 127.01\n",
            "Austria                129.31\n",
            "Japan                  142.41\n",
            "Switzerland            146.93\n",
            "Singapore              162.63\n",
            "China                  170.90\n",
            "Hong Kong              173.97\n",
            "Denmark                199.86\n",
            "Norway                 216.23\n",
            "Macao                  232.74\n"
          ]
        }
      ],
      "source": [
        "expansive=df[['Country','maxPricetoEUR']].groupby('Country').mean().sort_values(by='maxPricetoEUR')\n",
        "print(expansive)\n",
        "# 유로로 환산되었을 때"
      ]
    },
    {
      "cell_type": "code",
      "execution_count": null,
      "metadata": {
        "colab": {
          "base_uri": "https://localhost:8080/"
        },
        "id": "8Dbbl0nui55o",
        "outputId": "ad415922-f383-4c1d-e960-24e32525bf2d"
      },
      "outputs": [
        {
          "name": "stdout",
          "output_type": "stream",
          "text": [
            "                maxPricetoEUR  maxPricetoKRW\n",
            "Country                                     \n",
            "Serbia                  17.89      23,807.14\n",
            "Poland                  47.29      62,948.12\n",
            "Brazil                  51.22      68,171.31\n",
            "Czechia                 59.84      79,647.63\n",
            "Taiwan                  79.26     105,501.41\n",
            "Malta                   84.00     111,804.00\n",
            "Ireland                 84.43     112,379.57\n",
            "Thailand                86.13     114,645.15\n",
            "Croatia                 86.15     114,672.27\n",
            "Hungary                 87.98     117,099.44\n",
            "Spain                   89.09     118,580.00\n",
            "Slovenia                92.25     122,784.75\n",
            "United States           93.48     124,416.17\n",
            "Greece                  95.00     126,445.00\n",
            "San Marino             100.00     133,100.00\n",
            "Netherlands            103.91     138,305.69\n",
            "Belgium                104.35     138,891.37\n",
            "Portugal               106.05     141,157.30\n",
            "Italy                  108.05     143,820.68\n",
            "Andorra                108.50     144,413.50\n",
            "United Kingdom         109.28     145,445.61\n",
            "Germany                112.79     150,129.92\n",
            "Iceland                113.24     150,724.72\n",
            "France                 113.93     151,644.02\n",
            "Luxembourg             114.10     151,867.10\n",
            "Finland                117.89     156,910.11\n",
            "South Korea            124.05     165,105.58\n",
            "Sweden                 127.01     169,054.13\n",
            "Austria                129.31     172,112.07\n",
            "Japan                  142.41     189,547.81\n",
            "Switzerland            146.93     195,559.53\n",
            "Singapore              162.63     216,455.38\n",
            "China                  170.90     227,470.82\n",
            "Hong Kong              173.97     231,551.09\n",
            "Denmark                199.86     266,013.28\n",
            "Norway                 216.23     287,795.93\n",
            "Macao                  232.74     309,776.24\n"
          ]
        }
      ],
      "source": [
        "r=int(exchange.loc[exchange['currency']==\"KRW\",['value']].iloc[0,0]) #원화로 바꾸기 위한 환율\n",
        "\n",
        "maxPricetoKRW = []\n",
        "\n",
        "for i in expansive['maxPricetoEUR']:\n",
        "  maxPricetoKRW.append(i*r)\n",
        "\n",
        "expansive['maxPricetoKRW'] = maxPricetoKRW\n",
        "print(expansive)\n",
        "# 한국의 가장 비싼 메뉴들은 대충 16만원정도 함니다.."
      ]
    },
    {
      "cell_type": "markdown",
      "metadata": {
        "id": "5ubkeLJ9c-qN"
      },
      "source": [
        "# 가장 싼 식당이 많은 나라, 원화로 환산"
      ]
    },
    {
      "cell_type": "code",
      "execution_count": null,
      "metadata": {
        "colab": {
          "base_uri": "https://localhost:8080/"
        },
        "id": "ZdoVUtoTdK1j",
        "outputId": "4ef444bd-943c-4176-d5c3-dafcb16865f2"
      },
      "outputs": [
        {
          "name": "stdout",
          "output_type": "stream",
          "text": [
            "                minPricetoEUR\n",
            "Country                      \n",
            "Serbia                  17.89\n",
            "Brazil                  29.80\n",
            "Czechia                 31.15\n",
            "Poland                  38.70\n",
            "San Marino              42.00\n",
            "Hungary                 48.60\n",
            "Luxembourg              49.60\n",
            "Taiwan                  49.72\n",
            "Belgium                 50.90\n",
            "Thailand                51.41\n",
            "Netherlands             53.62\n",
            "Croatia                 58.17\n",
            "Malta                   58.56\n",
            "France                  58.66\n",
            "South Korea             59.50\n",
            "Slovenia                62.08\n",
            "Spain                   64.47\n",
            "Ireland                 65.78\n",
            "Greece                  72.12\n",
            "Italy                   73.02\n",
            "Japan                   73.55\n",
            "Germany                 74.60\n",
            "Portugal                76.52\n",
            "United States           76.56\n",
            "United Kingdom          77.05\n",
            "Austria                 84.66\n",
            "Switzerland             85.23\n",
            "Singapore               87.10\n",
            "Hong Kong               89.90\n",
            "China                   90.75\n",
            "Andorra                 91.00\n",
            "Finland                 95.22\n",
            "Sweden                 106.17\n",
            "Iceland                113.24\n",
            "Macao                  126.53\n",
            "Denmark                154.06\n",
            "Norway                 163.99\n"
          ]
        }
      ],
      "source": [
        "cheap=df[['Country','minPricetoEUR']].groupby('Country').mean().sort_values(by='minPricetoEUR')\n",
        "print(cheap)\n",
        "# 유로로 환산되었을 때"
      ]
    },
    {
      "cell_type": "code",
      "execution_count": null,
      "metadata": {
        "colab": {
          "base_uri": "https://localhost:8080/"
        },
        "id": "esVA-iKljr6U",
        "outputId": "6840cbfa-3c3f-4cd1-b93e-9e09493ac72b"
      },
      "outputs": [
        {
          "name": "stdout",
          "output_type": "stream",
          "text": [
            "                minPricetoEUR  minPricetoKRW\n",
            "Country                                     \n",
            "Serbia                  17.89      23,807.14\n",
            "Brazil                  29.80      39,663.77\n",
            "Czechia                 31.15      41,460.30\n",
            "Poland                  38.70      51,516.05\n",
            "San Marino              42.00      55,902.00\n",
            "Hungary                 48.60      64,687.59\n",
            "Luxembourg              49.60      66,017.60\n",
            "Taiwan                  49.72      66,181.69\n",
            "Belgium                 50.90      67,754.00\n",
            "Thailand                51.41      68,427.94\n",
            "Netherlands             53.62      71,365.26\n",
            "Croatia                 58.17      77,424.97\n",
            "Malta                   58.56      77,937.44\n",
            "France                  58.66      78,081.58\n",
            "South Korea             59.50      79,193.08\n",
            "Slovenia                62.08      82,632.92\n",
            "Spain                   64.47      85,807.15\n",
            "Ireland                 65.78      87,558.22\n",
            "Greece                  72.12      95,998.38\n",
            "Italy                   73.02      97,185.71\n",
            "Japan                   73.55      97,891.67\n",
            "Germany                 74.60      99,289.59\n",
            "Portugal                76.52     101,845.27\n",
            "United States           76.56     101,906.88\n",
            "United Kingdom          77.05     102,552.71\n",
            "Austria                 84.66     112,676.03\n",
            "Switzerland             85.23     113,438.69\n",
            "Singapore               87.10     115,928.38\n",
            "Hong Kong               89.90     119,652.10\n",
            "China                   90.75     120,782.65\n",
            "Andorra                 91.00     121,121.00\n",
            "Finland                 95.22     126,740.78\n",
            "Sweden                 106.17     141,317.55\n",
            "Iceland                113.24     150,724.72\n",
            "Macao                  126.53     168,411.16\n",
            "Denmark                154.06     205,058.72\n",
            "Norway                 163.99     218,265.64\n"
          ]
        }
      ],
      "source": [
        "r=int(exchange.loc[exchange['currency']==\"KRW\",['value']].iloc[0,0]) #원화로 바꾸기 위한 환율\n",
        "\n",
        "minPricetoKRW = []\n",
        "\n",
        "for i in cheap['minPricetoEUR']:\n",
        "  minPricetoKRW.append(i*r)\n",
        "\n",
        "cheap['minPricetoKRW'] = minPricetoKRW \n",
        "print(cheap)\n",
        "#한국은 제일 싼 메뉴가 7만원정도 하네요.."
      ]
    },
    {
      "cell_type": "markdown",
      "metadata": {
        "id": "zhJ7TA0PdEAY"
      },
      "source": [
        "# 어디에 3성이 제일 많은지"
      ]
    },
    {
      "cell_type": "code",
      "execution_count": null,
      "metadata": {
        "colab": {
          "base_uri": "https://localhost:8080/"
        },
        "id": "YghJ9W77dLVZ",
        "outputId": "303b9395-631f-4ca3-ba18-ec774a4959aa"
      },
      "outputs": [
        {
          "name": "stdout",
          "output_type": "stream",
          "text": [
            "Country         Award           \n",
            "Andorra         1 MICHELIN Star       1\n",
            "                Bib Gourmand          1\n",
            "Austria         1 MICHELIN Star      10\n",
            "                2 MICHELIN Stars      6\n",
            "                3 MICHELIN Stars      1\n",
            "                                   ... \n",
            "United Kingdom  Bib Gourmand         98\n",
            "United States   1 MICHELIN Star     141\n",
            "                2 MICHELIN Stars     34\n",
            "                3 MICHELIN Stars     13\n",
            "                Bib Gourmand        326\n",
            "Length: 117, dtype: int64\n"
          ]
        }
      ],
      "source": [
        "star=df.groupby(['Country','Award']).size()\n",
        "print(star)"
      ]
    },
    {
      "cell_type": "code",
      "execution_count": null,
      "metadata": {
        "colab": {
          "base_uri": "https://localhost:8080/"
        },
        "id": "eriRh1teprxN",
        "outputId": "6b7a132f-f450-4a35-9fbc-417d2117eb8e"
      },
      "outputs": [
        {
          "name": "stdout",
          "output_type": "stream",
          "text": [
            "              Award         Country   갯수\n",
            "0   1 MICHELIN Star         Andorra    1\n",
            "25  1 MICHELIN Star      San Marino    1\n",
            "23  1 MICHELIN Star          Poland    1\n",
            "14  1 MICHELIN Star         Iceland    1\n",
            "6   1 MICHELIN Star         Czechia    2\n",
            "27  1 MICHELIN Star        Slovenia    5\n",
            "20  1 MICHELIN Star           Malta    5\n",
            "11  1 MICHELIN Star          Greece    5\n",
            "8   1 MICHELIN Star         Finland    7\n",
            "19  1 MICHELIN Star           Macao    7\n",
            "13  1 MICHELIN Star         Hungary    7\n",
            "22  1 MICHELIN Star          Norway    8\n",
            "18  1 MICHELIN Star      Luxembourg    8\n",
            "3   1 MICHELIN Star          Brazil    8\n",
            "28  1 MICHELIN Star     South Korea    9\n",
            "5   1 MICHELIN Star         Croatia   10\n",
            "1   1 MICHELIN Star         Austria   10\n",
            "15  1 MICHELIN Star         Ireland   14\n",
            "30  1 MICHELIN Star          Sweden   14\n",
            "32  1 MICHELIN Star          Taiwan   14\n",
            "7   1 MICHELIN Star         Denmark   18\n",
            "33  1 MICHELIN Star        Thailand   23\n",
            "24  1 MICHELIN Star        Portugal   26\n",
            "26  1 MICHELIN Star       Singapore   40\n",
            "12  1 MICHELIN Star       Hong Kong   44\n",
            "4   1 MICHELIN Star           China   48\n",
            "31  1 MICHELIN Star     Switzerland   90\n",
            "21  1 MICHELIN Star     Netherlands   91\n",
            "2   1 MICHELIN Star         Belgium   99\n",
            "35  1 MICHELIN Star   United States  141\n",
            "34  1 MICHELIN Star  United Kingdom  147\n",
            "17  1 MICHELIN Star           Japan  175\n",
            "29  1 MICHELIN Star           Spain  181\n",
            "10  1 MICHELIN Star         Germany  270\n",
            "16  1 MICHELIN Star           Italy  324\n",
            "9   1 MICHELIN Star          France  510\n",
            "Empty DataFrame\n",
            "Columns: [Award, Country, 갯수]\n",
            "Index: []\n",
            "Empty DataFrame\n",
            "Columns: [Award, Country, 갯수]\n",
            "Index: []\n"
          ]
        }
      ],
      "source": [
        "ac=df.groupby(['Award','Country']).size().to_frame(name='갯수')\n",
        "ac=ac.reset_index()\n",
        "ms1=ac[ac['Award']=='1 MICHELIN Star'].sort_values(by='갯수')\n",
        "print(ms1)"
      ]
    },
    {
      "cell_type": "code",
      "execution_count": null,
      "metadata": {
        "colab": {
          "base_uri": "https://localhost:8080/"
        },
        "id": "LUIhgEfWuJUz",
        "outputId": "c65d644f-0a6a-4d83-d06c-3e835c60cbfb"
      },
      "outputs": [
        {
          "name": "stdout",
          "output_type": "stream",
          "text": [
            "               Award         Country  갯수\n",
            "54  2 MICHELIN Stars        Slovenia   1\n",
            "43  2 MICHELIN Stars          Greece   1\n",
            "51  2 MICHELIN Stars          Norway   1\n",
            "48  2 MICHELIN Stars      Luxembourg   1\n",
            "38  2 MICHELIN Stars          Brazil   4\n",
            "57  2 MICHELIN Stars          Sweden   4\n",
            "45  2 MICHELIN Stars         Ireland   4\n",
            "49  2 MICHELIN Stars           Macao   5\n",
            "55  2 MICHELIN Stars     South Korea   5\n",
            "53  2 MICHELIN Stars       Singapore   5\n",
            "60  2 MICHELIN Stars        Thailand   6\n",
            "59  2 MICHELIN Stars          Taiwan   6\n",
            "36  2 MICHELIN Stars         Austria   6\n",
            "52  2 MICHELIN Stars        Portugal   7\n",
            "40  2 MICHELIN Stars         Denmark   7\n",
            "39  2 MICHELIN Stars           China   9\n",
            "44  2 MICHELIN Stars       Hong Kong  12\n",
            "50  2 MICHELIN Stars     Netherlands  17\n",
            "61  2 MICHELIN Stars  United Kingdom  18\n",
            "58  2 MICHELIN Stars     Switzerland  23\n",
            "37  2 MICHELIN Stars         Belgium  23\n",
            "56  2 MICHELIN Stars           Spain  33\n",
            "62  2 MICHELIN Stars   United States  34\n",
            "46  2 MICHELIN Stars           Italy  38\n",
            "42  2 MICHELIN Stars         Germany  46\n",
            "47  2 MICHELIN Stars           Japan  47\n",
            "41  2 MICHELIN Stars          France  73\n"
          ]
        }
      ],
      "source": [
        "ms2=ac[ac['Award']=='2 MICHELIN Stars'].sort_values(by='갯수')\n",
        "print(ms2)"
      ]
    },
    {
      "cell_type": "code",
      "execution_count": null,
      "metadata": {
        "colab": {
          "base_uri": "https://localhost:8080/"
        },
        "id": "-fe-J8zJucEd",
        "outputId": "b807388b-b35d-404c-e00d-91de985a826e"
      },
      "outputs": [
        {
          "name": "stdout",
          "output_type": "stream",
          "text": [
            "               Award         Country  갯수\n",
            "63  3 MICHELIN Stars         Austria   1\n",
            "65  3 MICHELIN Stars           China   1\n",
            "80  3 MICHELIN Stars          Taiwan   1\n",
            "78  3 MICHELIN Stars          Sweden   1\n",
            "74  3 MICHELIN Stars          Norway   1\n",
            "64  3 MICHELIN Stars         Belgium   2\n",
            "66  3 MICHELIN Stars         Denmark   2\n",
            "76  3 MICHELIN Stars     South Korea   2\n",
            "73  3 MICHELIN Stars     Netherlands   2\n",
            "79  3 MICHELIN Stars     Switzerland   3\n",
            "75  3 MICHELIN Stars       Singapore   3\n",
            "72  3 MICHELIN Stars           Macao   3\n",
            "69  3 MICHELIN Stars       Hong Kong   7\n",
            "81  3 MICHELIN Stars  United Kingdom   8\n",
            "68  3 MICHELIN Stars         Germany   9\n",
            "70  3 MICHELIN Stars           Italy  11\n",
            "77  3 MICHELIN Stars           Spain  11\n",
            "82  3 MICHELIN Stars   United States  13\n",
            "71  3 MICHELIN Stars           Japan  17\n",
            "67  3 MICHELIN Stars          France  29\n"
          ]
        }
      ],
      "source": [
        "ms3=ac[ac['Award']=='3 MICHELIN Stars'].sort_values(by='갯수')\n",
        "print(ms3)"
      ]
    },
    {
      "cell_type": "code",
      "execution_count": null,
      "metadata": {
        "colab": {
          "base_uri": "https://localhost:8080/"
        },
        "id": "gYY-V_GOuuA4",
        "outputId": "f1637b41-01a7-448d-8ea0-ae54aaaa1f67"
      },
      "outputs": [
        {
          "name": "stdout",
          "output_type": "stream",
          "text": [
            "            Award         Country   갯수\n",
            "83   Bib Gourmand         Andorra    1\n",
            "106  Bib Gourmand          Serbia    1\n",
            "91   Bib Gourmand         Finland    2\n",
            "103  Bib Gourmand          Norway    2\n",
            "94   Bib Gourmand          Greece    2\n",
            "100  Bib Gourmand           Macao    2\n",
            "101  Bib Gourmand           Malta    4\n",
            "87   Bib Gourmand           China    5\n",
            "89   Bib Gourmand         Czechia    5\n",
            "104  Bib Gourmand          Poland    5\n",
            "108  Bib Gourmand        Slovenia    6\n",
            "109  Bib Gourmand     South Korea    9\n",
            "88   Bib Gourmand         Croatia   10\n",
            "99   Bib Gourmand      Luxembourg   11\n",
            "84   Bib Gourmand         Austria   12\n",
            "111  Bib Gourmand          Sweden   12\n",
            "90   Bib Gourmand         Denmark   14\n",
            "107  Bib Gourmand       Singapore   16\n",
            "95   Bib Gourmand       Hong Kong   19\n",
            "96   Bib Gourmand         Ireland   19\n",
            "105  Bib Gourmand        Portugal   23\n",
            "114  Bib Gourmand        Thailand   24\n",
            "86   Bib Gourmand          Brazil   29\n",
            "113  Bib Gourmand          Taiwan   29\n",
            "115  Bib Gourmand  United Kingdom   98\n",
            "102  Bib Gourmand     Netherlands  115\n",
            "112  Bib Gourmand     Switzerland  135\n",
            "85   Bib Gourmand         Belgium  138\n",
            "98   Bib Gourmand           Japan  163\n",
            "97   Bib Gourmand           Italy  213\n",
            "110  Bib Gourmand           Spain  215\n",
            "93   Bib Gourmand         Germany  294\n",
            "116  Bib Gourmand   United States  326\n",
            "92   Bib Gourmand          France  453\n"
          ]
        }
      ],
      "source": [
        "bg=ac[ac['Award']=='Bib Gourmand'].sort_values(by='갯수')\n",
        "print(bg)"
      ]
    }
  ],
  "metadata": {
    "colab": {
      "collapsed_sections": [],
      "name": "Michelin.ipynb",
      "provenance": [],
      "toc_visible": true
    },
    "kernelspec": {
      "display_name": "Python 3",
      "name": "python3"
    },
    "language_info": {
      "name": "python"
    }
  },
  "nbformat": 4,
  "nbformat_minor": 0
}
